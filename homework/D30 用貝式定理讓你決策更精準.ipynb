{
 "cells": [
  {
   "cell_type": "code",
   "execution_count": 11,
   "metadata": {},
   "outputs": [
    {
     "name": "stdout",
     "output_type": "stream",
     "text": [
      "Q1 answer: 女生\n",
      "Q2 answer : 0.35714285714285715\n",
      "Q3 answer: 會改變\n"
     ]
    }
   ],
   "source": [
    "import matplotlib.pyplot as plt\n",
    "import numpy as np\n",
    "import pandas as pd\n",
    "from scipy import stats\n",
    "import math\n",
    "import statistics\n",
    "import seaborn as sns\n",
    "\n",
    "def bayes_theorem(p_a, p_b_given_a, p_b_given_not_a):\n",
    "    # calculate P(not A)\n",
    "    not_a = 1 - p_a\n",
    "    # calculate P(B)\n",
    "    p_b = p_b_given_a * p_a + p_b_given_not_a * not_a\n",
    "    # calculate P(A|B)\n",
    "    p_a_given_b = (p_b_given_a * p_a) / p_b\n",
    "    return p_a_given_b\n",
    "\n",
    "p_a = 0.1                   #girl\n",
    "p_b_given_a = 0.5           #girl and longhair\n",
    "p_b_given_not_a = 0.1       #boy and longhair\n",
    "result = bayes_theorem(p_a, p_b_given_a, p_b_given_not_a)\n",
    "\n",
    "\n",
    "#Q1：所以根據這個情況條件下。你會預測照片中的長髮是男性或女性？ (直覺回答)\n",
    "print(\"Q1 answer: 女生\")\n",
    "\n",
    "#Q2：以下圖資料，計算當你看到長髮時，是女生的機率？\n",
    "print(\"Q2 answer :\", result)\n",
    "\n",
    "#Q3：你的決策因為男生女生比例不同 (先驗分配不同)，決策有沒有改變？\n",
    "print(\"Q3 answer: 會改變\")"
   ]
  },
  {
   "cell_type": "code",
   "execution_count": null,
   "metadata": {},
   "outputs": [],
   "source": []
  }
 ],
 "metadata": {
  "kernelspec": {
   "display_name": "Python 3",
   "language": "python",
   "name": "python3"
  },
  "language_info": {
   "codemirror_mode": {
    "name": "ipython",
    "version": 3
   },
   "file_extension": ".py",
   "mimetype": "text/x-python",
   "name": "python",
   "nbconvert_exporter": "python",
   "pygments_lexer": "ipython3",
   "version": "3.8.5"
  }
 },
 "nbformat": 4,
 "nbformat_minor": 4
}
