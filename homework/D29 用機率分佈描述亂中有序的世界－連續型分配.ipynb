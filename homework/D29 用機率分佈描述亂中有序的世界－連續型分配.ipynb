{
 "cells": [
  {
   "cell_type": "code",
   "execution_count": 34,
   "metadata": {},
   "outputs": [
    {
     "name": "stdout",
     "output_type": "stream",
     "text": [
      "Q1 answer:  0.8413447460685429\n",
      "Q2 answer:  0.31731050786291415\n"
     ]
    }
   ],
   "source": [
    "import matplotlib.pyplot as plt\n",
    "import numpy as np\n",
    "import pandas as pd\n",
    "from scipy import stats\n",
    "import math\n",
    "import statistics\n",
    "import seaborn as sns\n",
    "\n",
    "mu = 0\n",
    "sigma = 1\n",
    "#x = np.linspace(-10, 10, 200)\n",
    "#y = stats.norm.pdf(x,mu, sigma)\n",
    "#plt.plot(x, y, \"b-\", linewidth=2)\n",
    "#plt.show()\n",
    "\n",
    "#Q1：計算標準常態分配，小於 1 的機率有多大？\n",
    "cumsum_probs_1 =  stats.norm.cdf(1, mu, sigma)\n",
    "print(\"Q1 answer: \", cumsum_probs_1)\n",
    "\n",
    "#Q2：計算標準常態分配，大於1，小於 -1 的機率有多大？\n",
    "cumsum_probs_a =  stats.norm.cdf(1, mu, sigma)\n",
    "cumsum_probs_b =  stats.norm.cdf(-1, mu, sigma)\n",
    "final_2 = 1-(cumsum_probs_a - cumsum_probs_b)\n",
    "print(\"Q2 answer: \",final_2)"
   ]
  },
  {
   "cell_type": "code",
   "execution_count": 35,
   "metadata": {},
   "outputs": [
    {
     "name": "stdout",
     "output_type": "stream",
     "text": [
      "Q3 answer:  0.6914624612740131\n"
     ]
    }
   ],
   "source": [
    "import matplotlib.pyplot as plt\n",
    "import numpy as np\n",
    "import pandas as pd\n",
    "from scipy import stats\n",
    "import math\n",
    "import statistics\n",
    "import seaborn as sns\n",
    "\n",
    "#Q3：計算 X~N(2,4)，小於 3 的機率有多大\n",
    "mu = 2\n",
    "sigma = 2\n",
    "#x = np.linspace(-10, 10, 200)\n",
    "#y = stats.norm.pdf(x,mu, sigma)\n",
    "#plt.plot(x, y, \"b-\", linewidth=2)\n",
    "#plt.show()\n",
    "\n",
    "cumsum_probs_3 =  stats.norm.cdf(3, mu, sigma)\n",
    "print(\"Q3 answer: \", cumsum_probs_3)"
   ]
  },
  {
   "cell_type": "code",
   "execution_count": null,
   "metadata": {},
   "outputs": [],
   "source": []
  },
  {
   "cell_type": "code",
   "execution_count": null,
   "metadata": {},
   "outputs": [],
   "source": []
  }
 ],
 "metadata": {
  "kernelspec": {
   "display_name": "Python 3",
   "language": "python",
   "name": "python3"
  },
  "language_info": {
   "codemirror_mode": {
    "name": "ipython",
    "version": 3
   },
   "file_extension": ".py",
   "mimetype": "text/x-python",
   "name": "python",
   "nbconvert_exporter": "python",
   "pygments_lexer": "ipython3",
   "version": "3.8.5"
  }
 },
 "nbformat": 4,
 "nbformat_minor": 4
}
