{
 "cells": [
  {
   "cell_type": "code",
   "execution_count": 10,
   "metadata": {},
   "outputs": [
    {
     "name": "stdout",
     "output_type": "stream",
     "text": [
      "            math_score  english_score  chinese_score\n",
      "student_id                                          \n",
      "1                   56             66             70\n",
      "2                   90             45             34\n",
      "3                   45             32             55\n",
      "4                   70             77             89\n",
      "5                   56             80             70\n",
      "6                   60             54             55\n",
      "7                   45             70             79\n",
      "8                   34             77             76\n",
      "9                   25             87             60\n",
      "10                  88             40             43\n",
      "Student id = 6, average =  56.333333333333336\n"
     ]
    }
   ],
   "source": [
    "import pandas as pd\n",
    "score_df = pd.DataFrame([[1,56,66,70], \n",
    "                         [2,90,45,34], \n",
    "                         [3,45,32,55], \n",
    "                         [4,70,77,89], \n",
    "                         [5,56,80,70], \n",
    "                         [6,60,54,55], \n",
    "                         [7,45,70,79], \n",
    "                         [8,34,77,76], \n",
    "                         [9,25,87,60], \n",
    "                         [10,88,40,43]]\n",
    "                        ,columns=['student_id','math_score','english_score','chinese_score'])\n",
    "score_df = score_df.set_index('student_id')\n",
    "print(score_df)\n",
    "mean_all = score_df.mean(axis=1)\n",
    "print(\"Student id = 6, average = \", mean_all[6])"
   ]
  },
  {
   "cell_type": "code",
   "execution_count": 12,
   "metadata": {},
   "outputs": [
    {
     "name": "stdout",
     "output_type": "stream",
     "text": [
      "            math_score  english_score  chinese_score\n",
      "student_id                                          \n",
      "1                   56             66             70\n",
      "2                   90             45             34\n",
      "3                   45             32             55\n",
      "4                   70             77             89\n",
      "5                   56             80             70\n",
      "6                   60             54             55\n",
      "7                   45             70             79\n",
      "8                   34             77             76\n",
      "9                   25             87             60\n",
      "10                  88             40             43\n",
      "Student id = 6, average =  56.333333333333336 \n",
      "All median value is  59.833333333333336\n"
     ]
    }
   ],
   "source": [
    "import pandas as pd\n",
    "score_df = pd.DataFrame([[1,56,66,70], \n",
    "                         [2,90,45,34], \n",
    "                         [3,45,32,55], \n",
    "                         [4,70,77,89], \n",
    "                         [5,56,80,70], \n",
    "                         [6,60,54,55], \n",
    "                         [7,45,70,79], \n",
    "                         [8,34,77,76], \n",
    "                         [9,25,87,60], \n",
    "                         [10,88,40,43]]\n",
    "                        ,columns=['student_id','math_score','english_score','chinese_score'])\n",
    "score_df = score_df.set_index('student_id')\n",
    "print(score_df)\n",
    "mean_all = score_df.mean(axis=1)\n",
    "mean_median_all = mean_all.median()\n",
    "print(\"Student id = 6, average = \", mean_all[6], \"\\nAll median value is \", mean_median_all)"
   ]
  },
  {
   "cell_type": "code",
   "execution_count": 20,
   "metadata": {},
   "outputs": [
    {
     "name": "stdout",
     "output_type": "stream",
     "text": [
      "Original score: \n",
      "             math_score  english_score  chinese_score\n",
      "student_id                                          \n",
      "1                   56             66             70\n",
      "2                   90             45             34\n",
      "3                   45             32             55\n",
      "4                   70             77             89\n",
      "5                   56             80             70\n",
      "6                   60             54             55\n",
      "7                   45             70             79\n",
      "8                   34             77             76\n",
      "9                   25             87             60\n",
      "10                  88             40             43\n",
      "\n",
      "Modified score: \n",
      "             math_score  english_score  chinese_score\n",
      "student_id                                          \n",
      "1            74.833148      81.240384      83.666003\n",
      "2            94.868330      67.082039      58.309519\n",
      "3            67.082039      56.568542      74.161985\n",
      "4            83.666003      87.749644      94.339811\n",
      "5            74.833148      89.442719      83.666003\n",
      "6            77.459667      73.484692      74.161985\n",
      "7            67.082039      83.666003      88.881944\n",
      "8            58.309519      87.749644      87.177979\n",
      "9            50.000000      93.273791      77.459667\n",
      "10           93.808315      63.245553      65.574385\n",
      "\n",
      "Student id = 6, modified score:\n",
      " math_score       77.459667\n",
      "english_score    73.484692\n",
      "chinese_score    74.161985\n",
      "Name: 6, dtype: float64\n"
     ]
    }
   ],
   "source": [
    "import pandas as pd\n",
    "score_df = pd.DataFrame([[1,56,66,70], \n",
    "                         [2,90,45,34], \n",
    "                         [3,45,32,55], \n",
    "                         [4,70,77,89], \n",
    "                         [5,56,80,70], \n",
    "                         [6,60,54,55], \n",
    "                         [7,45,70,79], \n",
    "                         [8,34,77,76], \n",
    "                         [9,25,87,60], \n",
    "                         [10,88,40,43]]\n",
    "                        ,columns=['student_id','math_score','english_score','chinese_score'])\n",
    "score_df = score_df.set_index('student_id')\n",
    "print(\"Original score: \\n\", score_df)\n",
    "score_df = score_df.apply(lambda x : x**(0.5)*10)\n",
    "print(\"\\nModified score: \\n\", score_df)\n",
    "student_id6 = score_df.iloc[5]\n",
    "print(\"\\nStudent id = 6, modified score:\\n\", student_id6)"
   ]
  },
  {
   "cell_type": "code",
   "execution_count": 21,
   "metadata": {},
   "outputs": [
    {
     "name": "stdout",
     "output_type": "stream",
     "text": [
      "Original score: \n",
      "             math_score  english_score  chinese_score\n",
      "student_id                                          \n",
      "1                   56             66             70\n",
      "2                   90             45             34\n",
      "3                   45             32             55\n",
      "4                   70             77             89\n",
      "5                   56             80             70\n",
      "6                   60             54             55\n",
      "7                   45             70             79\n",
      "8                   34             77             76\n",
      "9                   25             87             60\n",
      "10                  88             40             43\n",
      "\n",
      "Modified score: \n",
      "             math_score  english_score  chinese_score\n",
      "student_id                                          \n",
      "1            74.833148      81.240384      83.666003\n",
      "2            94.868330      67.082039      58.309519\n",
      "3            67.082039      56.568542      74.161985\n",
      "4            83.666003      87.749644      94.339811\n",
      "5            74.833148      89.442719      83.666003\n",
      "6            77.459667      73.484692      74.161985\n",
      "7            67.082039      83.666003      88.881944\n",
      "8            58.309519      87.749644      87.177979\n",
      "9            50.000000      93.273791      77.459667\n",
      "10           93.808315      63.245553      65.574385\n",
      "\n",
      "Modified score average: \n",
      " math_score       74.194221\n",
      "english_score    78.350301\n",
      "chinese_score    78.739928\n",
      "dtype: float64\n"
     ]
    }
   ],
   "source": [
    "import pandas as pd\n",
    "score_df = pd.DataFrame([[1,56,66,70], \n",
    "                         [2,90,45,34], \n",
    "                         [3,45,32,55], \n",
    "                         [4,70,77,89], \n",
    "                         [5,56,80,70], \n",
    "                         [6,60,54,55], \n",
    "                         [7,45,70,79], \n",
    "                         [8,34,77,76], \n",
    "                         [9,25,87,60], \n",
    "                         [10,88,40,43]]\n",
    "                        ,columns=['student_id','math_score','english_score','chinese_score'])\n",
    "score_df = score_df.set_index('student_id')\n",
    "print(\"Original score: \\n\", score_df)\n",
    "score_df = score_df.apply(lambda x : x**(0.5)*10)\n",
    "print(\"\\nModified score: \\n\", score_df)\n",
    "average_all = score_df.mean(axis = 0)\n",
    "print(\"\\nModified score average: \\n\", average_all)"
   ]
  },
  {
   "cell_type": "code",
   "execution_count": null,
   "metadata": {},
   "outputs": [],
   "source": []
  }
 ],
 "metadata": {
  "kernelspec": {
   "display_name": "Python 3",
   "language": "python",
   "name": "python3"
  },
  "language_info": {
   "codemirror_mode": {
    "name": "ipython",
    "version": 3
   },
   "file_extension": ".py",
   "mimetype": "text/x-python",
   "name": "python",
   "nbconvert_exporter": "python",
   "pygments_lexer": "ipython3",
   "version": "3.8.5"
  }
 },
 "nbformat": 4,
 "nbformat_minor": 4
}
