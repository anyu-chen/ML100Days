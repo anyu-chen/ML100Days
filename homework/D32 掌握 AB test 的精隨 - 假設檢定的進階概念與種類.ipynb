{
 "cells": [
  {
   "cell_type": "code",
   "execution_count": 5,
   "metadata": {},
   "outputs": [
    {
     "name": "stdout",
     "output_type": "stream",
     "text": [
      "Q1 answer: alpha = 變小 / beta = 變大\n",
      "Q2 answer: alpha = 變大 / beta = 變小\n",
      "Q3 answer: H0 curve & H1 curve 交差處時的alpha和beta相等 \n",
      "            之後當門檻變大時 -> alpha = 變小 / beta = 變大 \n",
      "               當門檻變小時 -> alpha = 變大 / beta = 變小\n"
     ]
    }
   ],
   "source": [
    "#如果拒絕域改變時，α 和 β 會怎樣變化。\n",
    "#Q1. 假設 x̄ > 2，拒絕 H0，α 會變大／變小？β 會變大／變小？\n",
    "#Q2. 假設 x̄ > 0.2，拒絕 Ho，會變大／變小？β 會變大/變小？\n",
    "#Q3. I'm α 和 β 有關聯性？\n",
    "\n",
    "\n",
    "print(\"Q1 answer: alpha = 變小 / beta = 變大\")\n",
    "print(\"Q2 answer: alpha = 變大 / beta = 變小\")\n",
    "print(\"Q3 answer: H0 curve & H1 curve 交差處時的alpha和beta相等\",\n",
    "      \"\\n            之後當門檻變大時 -> alpha = 變小 / beta = 變大\",\n",
    "      \"\\n               當門檻變小時 -> alpha = 變大 / beta = 變小\")"
   ]
  },
  {
   "cell_type": "code",
   "execution_count": null,
   "metadata": {},
   "outputs": [],
   "source": []
  }
 ],
 "metadata": {
  "kernelspec": {
   "display_name": "Python 3",
   "language": "python",
   "name": "python3"
  },
  "language_info": {
   "codemirror_mode": {
    "name": "ipython",
    "version": 3
   },
   "file_extension": ".py",
   "mimetype": "text/x-python",
   "name": "python",
   "nbconvert_exporter": "python",
   "pygments_lexer": "ipython3",
   "version": "3.8.5"
  }
 },
 "nbformat": 4,
 "nbformat_minor": 4
}
