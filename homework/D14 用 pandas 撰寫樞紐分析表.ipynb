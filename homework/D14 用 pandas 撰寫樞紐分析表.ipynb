{
 "cells": [
  {
   "cell_type": "code",
   "execution_count": 45,
   "metadata": {},
   "outputs": [
    {
     "name": "stdout",
     "output_type": "stream",
     "text": [
      "variable               chinese_score  english_score  math_score\n",
      "sex  class student_id                                          \n",
      "boy  1     1                      70             80          50\n",
      "           3                      55             43          98\n",
      "     2     2                      50             45          60\n",
      "           4                      89             69          70\n",
      "     3     11                     45             60          25\n",
      "           12                     23             60          80\n",
      "girl 1     5                      60             79          56\n",
      "           7                      77             70          45\n",
      "           9                      60             57          25\n",
      "     2     6                      55             68          60\n",
      "           8                      76             77          55\n",
      "     3     10                     43             40          88\n",
      "           13                     66             90          20\n",
      "           14                     50             50          50\n",
      "           15                     77             67          89\n"
     ]
    }
   ],
   "source": [
    "import numpy as np\n",
    "import pandas as pd\n",
    "\n",
    "score_df = pd.DataFrame([[1,50,80,70,'boy',1],\n",
    "                         [2,60,45,50,'boy',2],\n",
    "                         [3,98,43,55,'boy',1],\n",
    "                         [4,70,69,89,'boy',2],\n",
    "                         [5,56,79,60,'girl',1],\n",
    "                         [6,60,68,55,'girl',2],\n",
    "                         [7,45,70,77,'girl',1],\n",
    "                         [8,55,77,76,'girl',2],\n",
    "                         [9,25,57,60,'girl',1],\n",
    "                         [10,88,40,43,'girl',3],\n",
    "                         [11,25,60,45,'boy',3],\n",
    "                         [12,80,60,23,'boy',3],\n",
    "                         [13,20,90,66,'girl',3],\n",
    "                         [14,50,50,50,'girl',3],\n",
    "                         [15,89,67,77,'girl',3]],\n",
    "                        columns=['student_id','math_score','english_score','chinese_score','sex','class'])\n",
    "score_df = score_df.melt(id_vars = ['sex', 'class', 'student_id'])\n",
    "final = score_df.pivot(index = ['sex', 'class', 'student_id'], columns = 'variable', values = 'value')\n",
    "\n",
    "print(final)"
   ]
  },
  {
   "cell_type": "code",
   "execution_count": null,
   "metadata": {},
   "outputs": [],
   "source": []
  }
 ],
 "metadata": {
  "kernelspec": {
   "display_name": "Python 3",
   "language": "python",
   "name": "python3"
  },
  "language_info": {
   "codemirror_mode": {
    "name": "ipython",
    "version": 3
   },
   "file_extension": ".py",
   "mimetype": "text/x-python",
   "name": "python",
   "nbconvert_exporter": "python",
   "pygments_lexer": "ipython3",
   "version": "3.8.5"
  }
 },
 "nbformat": 4,
 "nbformat_minor": 4
}
