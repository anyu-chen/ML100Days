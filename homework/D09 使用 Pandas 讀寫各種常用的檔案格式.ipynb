{
 "cells": [
  {
   "cell_type": "code",
   "execution_count": 3,
   "metadata": {},
   "outputs": [
    {
     "name": "stdout",
     "output_type": "stream",
     "text": [
      "     CHAS    NOX     RM\n",
      "0     0.0  0.538  6.575\n",
      "1     0.0  0.469  6.421\n",
      "2     0.0  0.469  7.185\n",
      "3     0.0  0.458  6.998\n",
      "4     0.0  0.458  7.147\n",
      "..    ...    ...    ...\n",
      "501   0.0  0.573  6.593\n",
      "502   0.0  0.573  6.120\n",
      "503   0.0  0.573  6.976\n",
      "504   0.0  0.573  6.794\n",
      "505   0.0  0.573  6.030\n",
      "\n",
      "[506 rows x 3 columns]\n"
     ]
    }
   ],
   "source": [
    "import pandas as pd\n",
    "boston = pd.read_csv('boston.csv', usecols = ['CHAS', 'NOX', 'RM'])\n",
    "\n",
    "print(boston)\n",
    "boston.to_csv('boston_read.xlsx')"
   ]
  },
  {
   "cell_type": "code",
   "execution_count": null,
   "metadata": {},
   "outputs": [],
   "source": []
  }
 ],
 "metadata": {
  "kernelspec": {
   "display_name": "Python 3",
   "language": "python",
   "name": "python3"
  },
  "language_info": {
   "codemirror_mode": {
    "name": "ipython",
    "version": 3
   },
   "file_extension": ".py",
   "mimetype": "text/x-python",
   "name": "python",
   "nbconvert_exporter": "python",
   "pygments_lexer": "ipython3",
   "version": "3.8.5"
  }
 },
 "nbformat": 4,
 "nbformat_minor": 4
}
