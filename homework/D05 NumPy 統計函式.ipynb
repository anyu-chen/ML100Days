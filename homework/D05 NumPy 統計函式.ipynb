{
 "cells": [
  {
   "cell_type": "code",
   "execution_count": 25,
   "metadata": {},
   "outputs": [
    {
     "name": "stdout",
     "output_type": "stream",
     "text": [
      "ENGLISH average: 67.16666666666667  /maximum: 89  /minimum: 48  /standard dividation: 13.433995020924426\n",
      "MATH average: 66.6  /maximum: 85.0  /minimum: 60.0  /standard dividation: 9.707728879609279\n",
      "MATH average: 75.33333333333333  /maximum: 90  /minimum: 65  /standard dividation: 8.825468196582484\n"
     ]
    }
   ],
   "source": [
    "import numpy as np\n",
    "english_score = np.array([55,89,76,65,48,70])\n",
    "math_score = np.array([60,85,60,68,np.nan,60])\n",
    "chinese_score = np.array([65,90,82,72,66,77])\n",
    "\n",
    "english1 = np.mean(english_score)\n",
    "math1    = np.nanmean(math_score)\n",
    "chinese1 = np.mean(chinese_score)\n",
    "\n",
    "english2 = np.max(english_score)\n",
    "math2    = np.nanmax(math_score)\n",
    "chinese2 = np.max(chinese_score)\n",
    "\n",
    "english3 = np.min(english_score)\n",
    "math3    = np.nanmin(math_score)\n",
    "chinese3 = np.min(chinese_score)\n",
    "\n",
    "english4 = np.std(english_score)\n",
    "math4    = np.nanstd(math_score)\n",
    "chinese4 = np.std(chinese_score)\n",
    "\n",
    "print(\"ENGLISH average:\",english1,\" /maximum:\", english2,\" /minimum:\" ,english3, \" /standard dividation:\", english4)\n",
    "print(\"MATH average:\", math1,\" /maximum:\", math2,\" /minimum:\", math3, \" /standard dividation:\", math4)\n",
    "print(\"MATH average:\", chinese1,\" /maximum:\", chinese2,\" /minimum:\", chinese3, \" /standard dividation:\", chinese4)"
   ]
  },
  {
   "cell_type": "code",
   "execution_count": 26,
   "metadata": {},
   "outputs": [
    {
     "name": "stdout",
     "output_type": "stream",
     "text": [
      "MATH AFTER MODIFIED average: 64.66666666666667  /maximum: 85.0  /minimum: 55.0  /standard dividation: 9.860132971832694\n"
     ]
    }
   ],
   "source": [
    "import numpy as np\n",
    "english_score = np.array([55,89,76,65,48,70])\n",
    "math_score = np.array([60,85,60,68,np.nan,60])\n",
    "chinese_score = np.array([65,90,82,72,66,77])\n",
    "math_score_modified = np.ravel(math_score)\n",
    "math_score_modified[4] = 55\n",
    "\n",
    "math1    = np.mean(math_score)\n",
    "math2    = np.max(math_score)\n",
    "math3    = np.min(math_score)\n",
    "math4    = np.std(math_score)\n",
    "\n",
    "print(\"MATH AFTER MODIFIED average:\", math1,\" /maximum:\", math2,\" /minimum:\", math3, \" /standard dividation:\",math4)"
   ]
  },
  {
   "cell_type": "code",
   "execution_count": 27,
   "metadata": {},
   "outputs": [
    {
     "name": "stdout",
     "output_type": "stream",
     "text": [
      "With math: [[1.         0.74056803]\n",
      " [0.74056803 1.        ]]  / With english: [[1.         0.97792828]\n",
      " [0.97792828 1.        ]]\n",
      "Largest coefficient parameter is  [[1.         0.97792828]\n",
      " [0.97792828 1.        ]]\n"
     ]
    }
   ],
   "source": [
    "import numpy as np\n",
    "english_score = np.array([55,89,76,65,48,70])\n",
    "math_score = np.array([60,85,60,68,np.nan,60])\n",
    "chinese_score = np.array([65,90,82,72,66,77])\n",
    "math_score_modified = np.ravel(math_score)\n",
    "math_score_modified[4] = 55\n",
    "\n",
    "coeff_math = np.corrcoef(chinese_score, math_score, rowvar=True)\n",
    "coeff_english = np.corrcoef(chinese_score, english_score, rowvar=True)\n",
    "print(\"With math:\",coeff_math, \" / With english:\", coeff_english)\n",
    "max_score = np.maximum(coeff_math, coeff_english)\n",
    "print(\"Largest coefficient parameter is \",max_score)"
   ]
  },
  {
   "cell_type": "code",
   "execution_count": null,
   "metadata": {},
   "outputs": [],
   "source": []
  }
 ],
 "metadata": {
  "kernelspec": {
   "display_name": "Python 3",
   "language": "python",
   "name": "python3"
  },
  "language_info": {
   "codemirror_mode": {
    "name": "ipython",
    "version": 3
   },
   "file_extension": ".py",
   "mimetype": "text/x-python",
   "name": "python",
   "nbconvert_exporter": "python",
   "pygments_lexer": "ipython3",
   "version": "3.8.5"
  }
 },
 "nbformat": 4,
 "nbformat_minor": 4
}
