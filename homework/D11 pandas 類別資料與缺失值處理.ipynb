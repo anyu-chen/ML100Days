{
 "cells": [
  {
   "cell_type": "code",
   "execution_count": 2,
   "metadata": {},
   "outputs": [
    {
     "name": "stdout",
     "output_type": "stream",
     "text": [
      "      Sex Profession\n",
      "0    male    teacher\n",
      "1    male   engineer\n",
      "2  female     others\n",
      "3  female   engineer\n"
     ]
    }
   ],
   "source": [
    "import pandas as pd\n",
    "\n",
    "q_df = pd.DataFrame([['male', 'teacher'], \n",
    "              ['male', 'engineer'],\n",
    "              ['female', None],\n",
    "              ['female', 'engineer']], columns=['Sex','Profession'])\n",
    "q_df = q_df.fillna('others')\n",
    "\n",
    "print(q_df)"
   ]
  },
  {
   "cell_type": "code",
   "execution_count": 12,
   "metadata": {},
   "outputs": [
    {
     "name": "stdout",
     "output_type": "stream",
     "text": [
      "no sequencial relationship between Profession\n",
      "\n",
      "      Sex Profession  engineer  others  teacher\n",
      "0    male    teacher         0       0        1\n",
      "1    male   engineer         1       0        0\n",
      "2  female     others         0       1        0\n",
      "3  female   engineer         1       0        0\n"
     ]
    }
   ],
   "source": [
    "import pandas as pd\n",
    "from sklearn.preprocessing import LabelEncoder\n",
    "\n",
    "q_df = pd.DataFrame([['male', 'teacher'], \n",
    "              ['male', 'engineer'],\n",
    "              ['female', None],\n",
    "              ['female', 'engineer']], columns=['Sex','Profession'])\n",
    "q_df = q_df.fillna('others')\n",
    "\n",
    "q_df_1= pd.get_dummies(q_df['Profession'])\n",
    "\n",
    "df = pd.concat([q_df, q_df_1], axis = 1)\n",
    "print('no sequencial relationship between Profession\\n')\n",
    "print(df)"
   ]
  },
  {
   "cell_type": "code",
   "execution_count": null,
   "metadata": {},
   "outputs": [],
   "source": []
  }
 ],
 "metadata": {
  "kernelspec": {
   "display_name": "Python 3",
   "language": "python",
   "name": "python3"
  },
  "language_info": {
   "codemirror_mode": {
    "name": "ipython",
    "version": 3
   },
   "file_extension": ".py",
   "mimetype": "text/x-python",
   "name": "python",
   "nbconvert_exporter": "python",
   "pygments_lexer": "ipython3",
   "version": "3.8.5"
  }
 },
 "nbformat": 4,
 "nbformat_minor": 4
}
