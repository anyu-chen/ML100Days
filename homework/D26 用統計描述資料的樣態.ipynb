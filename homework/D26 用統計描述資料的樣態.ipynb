{
 "cells": [
  {
   "cell_type": "code",
   "execution_count": 1,
   "metadata": {},
   "outputs": [
    {
     "name": "stdout",
     "output_type": "stream",
     "text": [
      "Boys mean =  165.95 \n",
      "Girls mean =  168.3\n"
     ]
    }
   ],
   "source": [
    "import matplotlib.pyplot as plt\n",
    "import numpy as np\n",
    "import pandas as pd\n",
    "from scipy import stats\n",
    "import math\n",
    "import statistics\n",
    "import seaborn as sns\n",
    "\n",
    "boys = [164, 176, 169, 169, 165, 175, 159, 151, 144, 160, 183, 165, 156, 170,\n",
    " 164, 173, 165, 163, 177, 171]\n",
    "girls = [169, 183, 170, 168, 182, 170, 173, 185, 151, 156, 162, 169, 162, 181,\n",
    " 159, 154, 167, 175, 170, 160]\n",
    "\n",
    "boys_mean = np.mean(boys)\n",
    "girls_mean = np.mean(girls)\n",
    "\n",
    "print(\"Boys mean = \", boys_mean, \"\\nGirls mean = \", girls_mean)"
   ]
  },
  {
   "cell_type": "code",
   "execution_count": 8,
   "metadata": {},
   "outputs": [
    {
     "name": "stdout",
     "output_type": "stream",
     "text": [
      "Boys 偏度 :  -0.47132127317376954 \n",
      "Boys 峰度 0.19395882957876331\n",
      "\n",
      "\n",
      "\n",
      "Girls 偏度 :  0.05985321129365068 \n",
      "Girls 峰度 -0.8203607083948947\n"
     ]
    }
   ],
   "source": [
    "import matplotlib.pyplot as plt\n",
    "import numpy as np\n",
    "import pandas as pd\n",
    "from scipy import stats\n",
    "import math\n",
    "import statistics\n",
    "import seaborn as sns\n",
    "\n",
    "boys = [164, 176, 169, 169, 165, 175, 159, 151, 144, 160, 183, 165, 156, 170,\n",
    " 164, 173, 165, 163, 177, 171]\n",
    "girls = [169, 183, 170, 168, 182, 170, 173, 185, 151, 156, 162, 169, 162, 181,\n",
    " 159, 154, 167, 175, 170, 160]\n",
    "\n",
    "print(\"Boys 偏度 : \", stats.skew(boys), \"\\nBoys 峰度\",stats.kurtosis(boys))\n",
    "print(\"\\n\")\n",
    "print(\"\\nGirls 偏度 : \", stats.skew(girls), \"\\nGirls 峰度\",stats.kurtosis(girls))"
   ]
  },
  {
   "cell_type": "code",
   "execution_count": 16,
   "metadata": {},
   "outputs": [
    {
     "name": "stdout",
     "output_type": "stream",
     "text": [
      "Q1 answer: 根據偏度及峰值,男生的資料型態較集中 -> 峰值較高 / 男生樣本為負偏態 ; \n",
      "                        女生的資料型態較分散 -> 峰值較低 / 女生樣本為正偏態\n",
      "Q2 answer : girls mean value is higher than boys\n",
      "Q3 answer : 與平常觀察的不同,通常是男生較高 \n",
      "            此題取值非平均分布,男生為左偏態;女生則為右偏態\n"
     ]
    }
   ],
   "source": [
    "print(\"Q1 answer: 根據偏度及峰值,男生的資料型態較集中 -> 峰值較高 / 男生樣本為負偏態 ;\",\"\\n                        女生的資料型態較分散 -> 峰值較低 / 女生樣本為正偏態\")\n",
    "print(\"Q2 answer : girls mean value is higher than boys\")\n",
    "print(\"Q3 answer : 與平常觀察的不同,通常是男生較高\",\"\\n            此題取值非平均分布,男生為左偏態;女生則為右偏態\")"
   ]
  },
  {
   "cell_type": "code",
   "execution_count": null,
   "metadata": {},
   "outputs": [],
   "source": []
  }
 ],
 "metadata": {
  "kernelspec": {
   "display_name": "Python 3",
   "language": "python",
   "name": "python3"
  },
  "language_info": {
   "codemirror_mode": {
    "name": "ipython",
    "version": 3
   },
   "file_extension": ".py",
   "mimetype": "text/x-python",
   "name": "python",
   "nbconvert_exporter": "python",
   "pygments_lexer": "ipython3",
   "version": "3.8.5"
  }
 },
 "nbformat": 4,
 "nbformat_minor": 4
}
