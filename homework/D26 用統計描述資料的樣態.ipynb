{
 "cells": [
  {
   "cell_type": "code",
   "execution_count": 23,
   "metadata": {},
   "outputs": [
    {
     "name": "stdout",
     "output_type": "stream",
     "text": [
      "Boys mean =  165.95 ; Girls mean =  168.3\n",
      "Boys median =  165.0 : Girls median =  169.0\n",
      "Boys range =  39 : Girls range =  34\n",
      "Boys 眾數 =  165 : Girls 眾數 =  170\n",
      "Boys 變異數 =  80.6475 : Girls 變異數 =  90.60999999999999\n",
      "Boys 標準差 =  8.980395314238677 : Girls 標準差 =  9.51892851112981\n",
      "Boys 20% =  159.8 : Girls 20% =  159.8\n",
      "Boys 80% =  173.39999999999998 : Girls 80% =  176.2\n"
     ]
    }
   ],
   "source": [
    "import matplotlib.pyplot as plt\n",
    "import numpy as np\n",
    "import pandas as pd\n",
    "from scipy import stats\n",
    "import math\n",
    "import statistics\n",
    "import seaborn as sns\n",
    "\n",
    "boys = [164, 176, 169, 169, 165, 175, 159, 151, 144, 160, 183, 165, 156, 170,\n",
    " 164, 173, 165, 163, 177, 171]\n",
    "girls = [169, 183, 170, 168, 182, 170, 173, 185, 151, 156, 162, 169, 162, 181,\n",
    " 159, 154, 167, 175, 170, 160]\n",
    "\n",
    "boys_mean = np.mean(boys)\n",
    "girls_mean = np.mean(girls)\n",
    "\n",
    "print(\"Boys mean = \", boys_mean, \"; Girls mean = \", girls_mean)\n",
    "print(\"Boys median = \", np.median(boys), \": Girls median = \", np.median(girls))\n",
    "print(\"Boys range = \", np.max(boys) - np.min(boys), \": Girls range = \", np.max(girls) - np.min(girls))\n",
    "print(\"Boys 眾數 = \", stats.mode(boys)[0][0], \": Girls 眾數 = \", stats.mode(girls)[0][0])\n",
    "print(\"Boys 變異數 = \", np.var(boys), \": Girls 變異數 = \", np.var(girls))\n",
    "print(\"Boys 標準差 = \", np.std(boys), \": Girls 標準差 = \", np.std(girls))\n",
    "print(\"Boys 20% = \", np.percentile(boys, 20), \": Girls 20% = \", np.percentile(girls, 20))\n",
    "print(\"Boys 80% = \", np.percentile(boys, 80), \": Girls 80% = \", np.percentile(girls, 80))"
   ]
  },
  {
   "cell_type": "code",
   "execution_count": 8,
   "metadata": {},
   "outputs": [
    {
     "name": "stdout",
     "output_type": "stream",
     "text": [
      "Boys 偏度 :  -0.47132127317376954 \n",
      "Boys 峰度 0.19395882957876331\n",
      "\n",
      "\n",
      "\n",
      "Girls 偏度 :  0.05985321129365068 \n",
      "Girls 峰度 -0.8203607083948947\n"
     ]
    }
   ],
   "source": [
    "import matplotlib.pyplot as plt\n",
    "import numpy as np\n",
    "import pandas as pd\n",
    "from scipy import stats\n",
    "import math\n",
    "import statistics\n",
    "import seaborn as sns\n",
    "\n",
    "boys = [164, 176, 169, 169, 165, 175, 159, 151, 144, 160, 183, 165, 156, 170,\n",
    " 164, 173, 165, 163, 177, 171]\n",
    "girls = [169, 183, 170, 168, 182, 170, 173, 185, 151, 156, 162, 169, 162, 181,\n",
    " 159, 154, 167, 175, 170, 160]\n",
    "\n",
    "print(\"Boys 偏度 : \", stats.skew(boys), \"\\nBoys 峰度\",stats.kurtosis(boys))\n",
    "print(\"\\n\")\n",
    "print(\"\\nGirls 偏度 : \", stats.skew(girls), \"\\nGirls 峰度\",stats.kurtosis(girls))"
   ]
  },
  {
   "cell_type": "code",
   "execution_count": 16,
   "metadata": {},
   "outputs": [
    {
     "name": "stdout",
     "output_type": "stream",
     "text": [
      "Q1 answer: 根據偏度及峰值,男生的資料型態較集中 -> 峰值較高 / 男生樣本為負偏態 ; \n",
      "                        女生的資料型態較分散 -> 峰值較低 / 女生樣本為正偏態\n",
      "Q2 answer : girls mean value is higher than boys\n",
      "Q3 answer : 與平常觀察的不同,通常是男生較高 \n",
      "            此題取值非平均分布,男生為左偏態;女生則為右偏態\n"
     ]
    }
   ],
   "source": [
    "print(\"Q1 answer: 根據偏度及峰值,男生的資料型態較集中 -> 峰值較高 / 男生樣本為負偏態 ;\",\"\\n                        女生的資料型態較分散 -> 峰值較低 / 女生樣本為正偏態\")\n",
    "print(\"Q2 answer : girls mean value is higher than boys\")\n",
    "print(\"Q3 answer : 與平常觀察的不同,通常是男生較高\",\"\\n            此題取值非平均分布,男生為左偏態;女生則為右偏態\")"
   ]
  },
  {
   "cell_type": "code",
   "execution_count": null,
   "metadata": {},
   "outputs": [],
   "source": []
  }
 ],
 "metadata": {
  "kernelspec": {
   "display_name": "Python 3",
   "language": "python",
   "name": "python3"
  },
  "language_info": {
   "codemirror_mode": {
    "name": "ipython",
    "version": 3
   },
   "file_extension": ".py",
   "mimetype": "text/x-python",
   "name": "python",
   "nbconvert_exporter": "python",
   "pygments_lexer": "ipython3",
   "version": "3.8.5"
  }
 },
 "nbformat": 4,
 "nbformat_minor": 4
}
