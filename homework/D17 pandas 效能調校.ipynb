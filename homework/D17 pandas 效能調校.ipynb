{
 "cells": [
  {
   "cell_type": "code",
   "execution_count": 5,
   "metadata": {},
   "outputs": [
    {
     "name": "stdout",
     "output_type": "stream",
     "text": [
      "1. 檢查是否已經有優先使用pandas內建的函式\n",
      "\n",
      "2. 亦可以使用numpy內建的函式\n",
      "\n",
      "3. 搜尋資料時可用向量化的資料處理方式加速動作\n",
      "\n"
     ]
    }
   ],
   "source": [
    "print(\"1. 檢查是否已經有優先使用pandas內建的函式\\n\")\n",
    "print(\"2. 亦可以使用numpy內建的函式\\n\")\n",
    "print(\"3. 搜尋資料時可用向量化的資料處理方式加速動作\\n\")"
   ]
  },
  {
   "cell_type": "code",
   "execution_count": 3,
   "metadata": {},
   "outputs": [
    {
     "name": "stdout",
     "output_type": "stream",
     "text": [
      "interger: 由signed轉unsigned可減少超過一半的儲存空間\n",
      "\n",
      "float: 由float64轉float32可減少一半的儲存空間\n"
     ]
    }
   ],
   "source": [
    "print(\"interger: 由signed轉unsigned可減少超過一半的儲存空間\\n\")\n",
    "print(\"float: 由float64轉float32可減少一半的儲存空間\")"
   ]
  },
  {
   "cell_type": "code",
   "execution_count": null,
   "metadata": {},
   "outputs": [],
   "source": []
  }
 ],
 "metadata": {
  "kernelspec": {
   "display_name": "Python 3",
   "language": "python",
   "name": "python3"
  },
  "language_info": {
   "codemirror_mode": {
    "name": "ipython",
    "version": 3
   },
   "file_extension": ".py",
   "mimetype": "text/x-python",
   "name": "python",
   "nbconvert_exporter": "python",
   "pygments_lexer": "ipython3",
   "version": "3.8.5"
  }
 },
 "nbformat": 4,
 "nbformat_minor": 4
}
