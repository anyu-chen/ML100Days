{
 "cells": [
  {
   "cell_type": "code",
   "execution_count": 11,
   "metadata": {},
   "outputs": [
    {
     "name": "stdout",
     "output_type": "stream",
     "text": [
      "[('小明', 'boy', 67.5, 8,  True) ('小華', 'boy', 75.3, 1,  True)\n",
      " ('小菁', 'girl', 50.1, 5, False) ('小美', 'girl', 45.5, 4, False)\n",
      " ('小張', 'boy', 80.8, 7,  True) ('John', 'boy', 90.4, 6,  True)\n",
      " ('Mark', 'boy', 78.4, 2, False) ('Tom', 'boy', 70.7, 3, False)]\n"
     ]
    }
   ],
   "source": [
    "import numpy as np\n",
    "\n",
    "name_list = ['小明','小華','小菁','小美','小張','John','Mark','Tom']\n",
    "sex_list = ['boy','boy','girl','girl','boy','boy','boy','boy']\n",
    "weight_list = [67.5,75.3,50.1,45.5,80.8,90.4,78.4,70.7]\n",
    "rank_list = [8,1,5,4,7,6,2,3]\n",
    "myopia_list = [True,True,False,False,True,True,False,False]\n",
    "\n",
    "dt = np.dtype({'names':('Name_list', 'Sex_list', 'Weight_list', 'Rank_list', 'Myopia_list'), 'formats':((np.str_, 5), (np.str_, 5), np.float_, np.int_, np.bool_)})\n",
    "a = np.zeros(8, dtype = dt)\n",
    "\n",
    "a['Name_list'] = name_list\n",
    "a['Sex_list'] = sex_list\n",
    "a['Weight_list'] = weight_list\n",
    "a['Rank_list'] = rank_list\n",
    "a['Myopia_list'] = myopia_list\n",
    "\n",
    "print(a)"
   ]
  },
  {
   "cell_type": "code",
   "execution_count": 13,
   "metadata": {},
   "outputs": [
    {
     "name": "stdout",
     "output_type": "stream",
     "text": [
      "69.8375\n"
     ]
    }
   ],
   "source": [
    "import numpy as np\n",
    "\n",
    "name_list = ['小明','小華','小菁','小美','小張','John','Mark','Tom']\n",
    "sex_list = ['boy','boy','girl','girl','boy','boy','boy','boy']\n",
    "weight_list = [67.5,75.3,50.1,45.5,80.8,90.4,78.4,70.7]\n",
    "rank_list = [8,1,5,4,7,6,2,3]\n",
    "myopia_list = [True,True,False,False,True,True,False,False]\n",
    "\n",
    "dt = np.dtype({'names':('Name_list', 'Sex_list', 'Weight_list', 'Rank_list', 'Myopia_list'), 'formats':((np.str_, 5), (np.str_, 5), np.float_, np.int_, np.bool_)})\n",
    "a = np.zeros(8, dtype = dt)\n",
    "\n",
    "a['Name_list'] = name_list\n",
    "a['Sex_list'] = sex_list\n",
    "a['Weight_list'] = weight_list\n",
    "a['Rank_list'] = rank_list\n",
    "a['Myopia_list'] = myopia_list\n",
    "\n",
    "b = np.mean(a['Weight_list'])\n",
    "print(b)"
   ]
  },
  {
   "cell_type": "code",
   "execution_count": 21,
   "metadata": {},
   "outputs": [
    {
     "name": "stdout",
     "output_type": "stream",
     "text": [
      "Girl_average:  47.8\n",
      "Boy_average:  77.18333333333332\n"
     ]
    }
   ],
   "source": [
    "import numpy as np\n",
    "\n",
    "name_list = ['小明','小華','小菁','小美','小張','John','Mark','Tom']\n",
    "sex_list = ['boy','boy','girl','girl','boy','boy','boy','boy']\n",
    "weight_list = [67.5,75.3,50.1,45.5,80.8,90.4,78.4,70.7]\n",
    "rank_list = [8,1,5,4,7,6,2,3]\n",
    "myopia_list = [True,True,False,False,True,True,False,False]\n",
    "\n",
    "dt = np.dtype({'names':('Name_list', 'Sex_list', 'Weight_list', 'Rank_list', 'Myopia_list'), 'formats':((np.str_, 5), (np.str_, 5), np.float_, np.int_, np.bool_)})\n",
    "a = np.zeros(8, dtype = dt)\n",
    "\n",
    "a['Name_list'] = name_list\n",
    "a['Sex_list'] = sex_list\n",
    "a['Weight_list'] = weight_list\n",
    "a['Rank_list'] = rank_list\n",
    "a['Myopia_list'] = myopia_list\n",
    "\n",
    "girl = np.array([2, 3])\n",
    "girl_avg = np.mean(a['Weight_list'][girl])\n",
    "\n",
    "boy = np.array([0, 1, 4, 5, 6, 7])\n",
    "boy_avg = np.mean(a['Weight_list'][boy])\n",
    "\n",
    "print('Girl_average: ',girl_avg)\n",
    "print('Boy_average: ',boy_avg)"
   ]
  },
  {
   "cell_type": "code",
   "execution_count": null,
   "metadata": {},
   "outputs": [],
   "source": []
  }
 ],
 "metadata": {
  "kernelspec": {
   "display_name": "Python 3",
   "language": "python",
   "name": "python3"
  },
  "language_info": {
   "codemirror_mode": {
    "name": "ipython",
    "version": 3
   },
   "file_extension": ".py",
   "mimetype": "text/x-python",
   "name": "python",
   "nbconvert_exporter": "python",
   "pygments_lexer": "ipython3",
   "version": "3.8.5"
  }
 },
 "nbformat": 4,
 "nbformat_minor": 4
}
