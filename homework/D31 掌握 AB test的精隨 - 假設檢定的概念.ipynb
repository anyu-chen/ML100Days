{
 "cells": [
  {
   "cell_type": "code",
   "execution_count": 5,
   "metadata": {},
   "outputs": [
    {
     "name": "stdout",
     "output_type": "stream",
     "text": [
      "Q1 answer: p = 表示在一個月內發生“Q1事件”的可能 / X = 表示瘦超過十公斤的事件 \n",
      "   H1: 即為一個月內不會發生‘瘦超過十公斤(X <= 10)’的可能 \n",
      "   H0: 即為一個月內會發生‘瘦超過十公斤(X > 10)’的可能\n",
      "\n",
      "Q2 answer: p = 表示在市場之佔有率的可能 \n",
      "   H1: p < 0.12, 其品牌在市場之佔有率至多為12% \n",
      "   H0: p > 0.12, 其品牌在市場之佔有率超過12%\n"
     ]
    }
   ],
   "source": [
    "#Q1: 吃減肥藥能在一個月內瘦超過十公斤，研究人員想推翻第四台廣告業者的說法，請試著寫出請試著寫出H0與H1 \n",
    "print(\"Q1 answer: p = 表示在一個月內發生“Q1事件”的可能 / X = 表示瘦超過十公斤的事件\", \n",
    "      \"\\n   H1: 即為一個月內不會發生‘瘦超過十公斤(X <= 10)’的可能\", \n",
    "      \"\\n   H0: 即為一個月內會發生‘瘦超過十公斤(X > 10)’的可能\")\n",
    "\n",
    "#Q2: 一位速食店店長認為其品牌在市場之佔有率至多為12%，於是該店長進行一個市場調查，\n",
    "#    一共訪問了3000為消費者，其中有311位表示喜歡該品牌，請試著寫出H0與H1 \n",
    "print(\"\\nQ2 answer: p = 表示在市場之佔有率的可能\", \n",
    "      \"\\n   H1: p < 0.12, 其品牌在市場之佔有率至多為12%\", \n",
    "      \"\\n   H0: p > 0.12, 其品牌在市場之佔有率超過12%\")"
   ]
  },
  {
   "cell_type": "code",
   "execution_count": null,
   "metadata": {},
   "outputs": [],
   "source": []
  }
 ],
 "metadata": {
  "kernelspec": {
   "display_name": "Python 3",
   "language": "python",
   "name": "python3"
  },
  "language_info": {
   "codemirror_mode": {
    "name": "ipython",
    "version": 3
   },
   "file_extension": ".py",
   "mimetype": "text/x-python",
   "name": "python",
   "nbconvert_exporter": "python",
   "pygments_lexer": "ipython3",
   "version": "3.8.5"
  }
 },
 "nbformat": 4,
 "nbformat_minor": 4
}
