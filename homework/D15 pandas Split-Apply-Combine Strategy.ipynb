{
 "cells": [
  {
   "cell_type": "code",
   "execution_count": 6,
   "metadata": {},
   "outputs": [
    {
     "name": "stdout",
     "output_type": "stream",
     "text": [
      "Maximum score of all:  variable\n",
      "chinese_score    89\n",
      "english_score    90\n",
      "math_score       98\n",
      "dtype: int64\n",
      "\n",
      "Minimum score of all:  variable\n",
      "chinese_score    23\n",
      "english_score    40\n",
      "math_score       20\n",
      "dtype: int64\n"
     ]
    }
   ],
   "source": [
    "import numpy as np\n",
    "import pandas as pd\n",
    "score_df = pd.DataFrame([[1,50,80,70,'boy',1],\n",
    "                         [2,60,45,50,'boy',2],\n",
    "                         [3,98,43,55,'boy',1],\n",
    "                         [4,70,69,89,'boy',2],\n",
    "                         [5,56,79,60,'girl',1],\n",
    "                         [6,60,68,55,'girl',2],\n",
    "                         [7,45,70,77,'girl',1],\n",
    "                         [8,55,77,76,'girl',2],\n",
    "                         [9,25,57,60,'girl',1],\n",
    "                         [10,88,40,43,'girl',3],\n",
    "                         [11,25,60,45,'boy',3],\n",
    "                         [12,80,60,23,'boy',3],\n",
    "                         [13,20,90,66,'girl',3],\n",
    "                         [14,50,50,50,'girl',3],\n",
    "                         [15,89,67,77,'girl',3]],\n",
    "                        columns=['student_id','math_score','english_score','chinese_score','sex','class'])\n",
    "score_df = score_df.melt(id_vars = ['sex', 'class', 'student_id'])\n",
    "final = score_df.pivot(index = ['sex', 'class', 'student_id'], columns = 'variable', values = 'value')\n",
    "\n",
    "score_max = final.max()\n",
    "score_min = final.min()\n",
    "\n",
    "print('Maximum score of all: ',score_max)\n",
    "print('\\nMinimum score of all: ',score_min)"
   ]
  },
  {
   "cell_type": "code",
   "execution_count": 11,
   "metadata": {},
   "outputs": [
    {
     "name": "stdout",
     "output_type": "stream",
     "text": [
      "The average of math score of each class:\n",
      "        math_score\n",
      "class            \n",
      "1       54.800000\n",
      "2       61.250000\n",
      "3       58.666667\n",
      "The maximum score is  math_score    61.25\n",
      "dtype: float64\n"
     ]
    }
   ],
   "source": [
    "import numpy as np\n",
    "import pandas as pd\n",
    "score_df = pd.DataFrame([[1,50,80,70,'boy',1],\n",
    "                         [2,60,45,50,'boy',2],\n",
    "                         [3,98,43,55,'boy',1],\n",
    "                         [4,70,69,89,'boy',2],\n",
    "                         [5,56,79,60,'girl',1],\n",
    "                         [6,60,68,55,'girl',2],\n",
    "                         [7,45,70,77,'girl',1],\n",
    "                         [8,55,77,76,'girl',2],\n",
    "                         [9,25,57,60,'girl',1],\n",
    "                         [10,88,40,43,'girl',3],\n",
    "                         [11,25,60,45,'boy',3],\n",
    "                         [12,80,60,23,'boy',3],\n",
    "                         [13,20,90,66,'girl',3],\n",
    "                         [14,50,50,50,'girl',3],\n",
    "                         [15,89,67,77,'girl',3]],\n",
    "                        columns=['student_id','math_score','english_score','chinese_score','sex','class'])\n",
    "score_df = score_df.drop(['student_id', 'english_score', 'chinese_score', 'sex'], axis = 1)\n",
    "average_math_class = score_df.groupby('class').mean()\n",
    "\n",
    "print('The average of math score of each class:\\n', average_math_class)\n",
    "print('The maximum score is ',average_math_class.max())"
   ]
  },
  {
   "cell_type": "code",
   "execution_count": 13,
   "metadata": {},
   "outputs": [
    {
     "name": "stdout",
     "output_type": "stream",
     "text": [
      "      chinese_score\n",
      "sex                \n",
      "boy       55.333333\n",
      "girl      62.666667\n",
      "The difference between girls and boys chinese score = \n",
      " chinese_score    7.333333\n",
      "dtype: float64\n"
     ]
    }
   ],
   "source": [
    "import numpy as np\n",
    "import pandas as pd\n",
    "score_df = pd.DataFrame([[1,50,80,70,'boy',1],\n",
    "                         [2,60,45,50,'boy',2],\n",
    "                         [3,98,43,55,'boy',1],\n",
    "                         [4,70,69,89,'boy',2],\n",
    "                         [5,56,79,60,'girl',1],\n",
    "                         [6,60,68,55,'girl',2],\n",
    "                         [7,45,70,77,'girl',1],\n",
    "                         [8,55,77,76,'girl',2],\n",
    "                         [9,25,57,60,'girl',1],\n",
    "                         [10,88,40,43,'girl',3],\n",
    "                         [11,25,60,45,'boy',3],\n",
    "                         [12,80,60,23,'boy',3],\n",
    "                         [13,20,90,66,'girl',3],\n",
    "                         [14,50,50,50,'girl',3],\n",
    "                         [15,89,67,77,'girl',3]],\n",
    "                        columns=['student_id','math_score','english_score','chinese_score','sex','class'])\n",
    "score_df = score_df.drop(['student_id', 'math_score', 'english_score', 'class'], axis = 1)\n",
    "average_chinese_class = score_df.groupby('sex').mean()\n",
    "diff = average_chinese_class.max() - average_chinese_class.min()\n",
    "\n",
    "print(average_chinese_class)\n",
    "print('The difference between girls and boys chinese score = \\n', diff)"
   ]
  },
  {
   "cell_type": "code",
   "execution_count": null,
   "metadata": {},
   "outputs": [],
   "source": []
  }
 ],
 "metadata": {
  "kernelspec": {
   "display_name": "Python 3",
   "language": "python",
   "name": "python3"
  },
  "language_info": {
   "codemirror_mode": {
    "name": "ipython",
    "version": 3
   },
   "file_extension": ".py",
   "mimetype": "text/x-python",
   "name": "python",
   "nbconvert_exporter": "python",
   "pygments_lexer": "ipython3",
   "version": "3.8.5"
  }
 },
 "nbformat": 4,
 "nbformat_minor": 4
}
