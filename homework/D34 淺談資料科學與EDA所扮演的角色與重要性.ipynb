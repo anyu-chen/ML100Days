{
 "cells": [
  {
   "cell_type": "code",
   "execution_count": 4,
   "metadata": {},
   "outputs": [
    {
     "name": "stdout",
     "output_type": "stream",
     "text": [
      "Answer:挑選 Mr./Ms. Right, 若是交友網站分析大量用戶使用請向後進行匹配程度分析則是可以利用EDA \n",
      "       但若單指個人單筆且帶有偏見性的主觀想法很難分析出結果且較無參考性可言\n"
     ]
    }
   ],
   "source": [
    "#Q1：哪一個問題不適合用資料科學解決？\n",
    "#Q2：以你的角度來分析，為什麼這樣的問題，較不適合用資料來解決？\n",
    "\n",
    "print(\"Answer:挑選 Mr./Ms. Right, 若是交友網站分析大量用戶使用請向後進行匹配程度分析則是可以利用EDA\",\n",
    "      \"\\n       但若單指個人單筆且帶有偏見性的主觀想法很難分析出結果且較無參考性可言\")"
   ]
  },
  {
   "cell_type": "code",
   "execution_count": null,
   "metadata": {},
   "outputs": [],
   "source": []
  }
 ],
 "metadata": {
  "kernelspec": {
   "display_name": "Python 3",
   "language": "python",
   "name": "python3"
  },
  "language_info": {
   "codemirror_mode": {
    "name": "ipython",
    "version": 3
   },
   "file_extension": ".py",
   "mimetype": "text/x-python",
   "name": "python",
   "nbconvert_exporter": "python",
   "pygments_lexer": "ipython3",
   "version": "3.8.5"
  }
 },
 "nbformat": 4,
 "nbformat_minor": 4
}
