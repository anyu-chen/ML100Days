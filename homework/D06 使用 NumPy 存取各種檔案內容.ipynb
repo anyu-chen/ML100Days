{
 "cells": [
  {
   "cell_type": "code",
   "execution_count": 33,
   "metadata": {},
   "outputs": [],
   "source": [
    "import numpy as np\n",
    "array1 = np.array(range(30))\n",
    "array2 = np.array([2,3,5])\n",
    "\n",
    "np.savez('question1', array1, array2)"
   ]
  },
  {
   "cell_type": "code",
   "execution_count": 37,
   "metadata": {},
   "outputs": [
    {
     "name": "stdout",
     "output_type": "stream",
     "text": [
      "First npzfile:  [ 0  1  2  3  4  5  6  7  8  9 10 11 12 13 14 15 16 17 18 19 20 21 22 23\n",
      " 24 25 26 27 28 29] [2 3 5]\n",
      "Second npzfile:  [ 0  1  2  3  4  5  6  7  8  9 10 11 12 13 14 15 16 17 18 19 20 21 22 23\n",
      " 24 25 26 27 28 29] [2 3 5] [0 1 2 3 4 5 6 7 8 9]\n"
     ]
    }
   ],
   "source": [
    "import numpy as np\n",
    "array1 = np.array(range(30))\n",
    "array2 = np.array([2,3,5])\n",
    "array3 = np.arange(10)\n",
    "\n",
    "np.savez('question1', array1, array2)\n",
    "npzfile = np.load('question1.npz')\n",
    "type(npzfile)\n",
    "npzfile.files\n",
    "print(\"First npzfile: \",npzfile['arr_0'], npzfile['arr_1'])\n",
    "\n",
    "np.savez('question2',npzfile['arr_0'], npzfile['arr_1'], array3)\n",
    "npzfile2 = np.load('question2.npz')\n",
    "print(\"Second npzfile: \",npzfile2['arr_0'], npzfile2['arr_1'],npzfile2['arr_2'])"
   ]
  },
  {
   "cell_type": "code",
   "execution_count": null,
   "metadata": {},
   "outputs": [],
   "source": []
  }
 ],
 "metadata": {
  "kernelspec": {
   "display_name": "Python 3",
   "language": "python",
   "name": "python3"
  },
  "language_info": {
   "codemirror_mode": {
    "name": "ipython",
    "version": 3
   },
   "file_extension": ".py",
   "mimetype": "text/x-python",
   "name": "python",
   "nbconvert_exporter": "python",
   "pygments_lexer": "ipython3",
   "version": "3.8.5"
  }
 },
 "nbformat": 4,
 "nbformat_minor": 4
}
