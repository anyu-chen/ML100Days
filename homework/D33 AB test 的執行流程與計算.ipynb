{
 "cells": [
  {
   "cell_type": "code",
   "execution_count": 10,
   "metadata": {},
   "outputs": [
    {
     "name": "stdout",
     "output_type": "stream",
     "text": [
      "Set H0 : n1-n2 = 0 / H1 = n1-n2 > 0\n",
      "\n",
      "p value =  1.3318728439003627e-06\n",
      "Z =  4.834937784152282 which is much more larger than 0.05. So those two production lines have different yield.\n"
     ]
    }
   ],
   "source": [
    "import matplotlib.pyplot as plt\n",
    "import numpy as np\n",
    "import pandas as pd\n",
    "from scipy import stats\n",
    "import math\n",
    "import statistics\n",
    "import seaborn as sns\n",
    "import statsmodels.stats.proportion\n",
    "\n",
    "#Q1: 某工廠想知道兩條不同的生產線的產品不良率是否有所不同，由兩條生產線中各抽取 300 個樣本，第一組有 75 個不良品，第二組有 30 個不良品，\n",
    "#    我們可以宣稱生產線所生產出的產品不良率不相同? (以 0.05 為顯著水準)?\n",
    "\n",
    "#H0 : n1-n2 = 0 / H1 = n1-n2 > 0\n",
    "print(\"Set H0 : n1-n2 = 0 / H1 = n1-n2 > 0\")\n",
    "A = [75, 30]\n",
    "B = [300, 300]\n",
    "statsmodels.stats.proportion.proportions_ztest(A, B, alternative='larger')\n",
    "print(\"\\np value = \", statsmodels.stats.proportion.proportions_ztest(A, B, alternative='two-sided')[1])\n",
    "print(\"Z = \", statsmodels.stats.proportion.proportions_ztest(A, B, alternative='two-sided')[0],\n",
    "      \"which is much more larger than 0.05. So those two production lines have different yield.\")"
   ]
  },
  {
   "cell_type": "code",
   "execution_count": 11,
   "metadata": {},
   "outputs": [
    {
     "name": "stdout",
     "output_type": "stream",
     "text": [
      "1. 目的：ＫＬＡ機台掃晶圓良率的設定方式:  \n",
      "2. 測試項目：A-以defect顆粒大小為基準分類的548顆die有420顆正確 ; B-以defect顏色為基準分類的1044顆die有890顆正確 \n",
      "3. 建立假設：假設以B方式的分類方式通常正確性優於A分類方式,則H0: B - A <= 0 / H1: B - A > 0 \n",
      "4. 隨機分配方法: 使用分層隨機方式,先依月份分出當年度晶圓良率最低的月份再進行當月隨機取樣 \n",
      "5. 實驗結果分析:  \n",
      "p value =  4.127550822410712e-21 \n",
      "Z =  -9.356334389461205\n"
     ]
    }
   ],
   "source": [
    "print(\"1. 目的：ＫＬＡ機台掃晶圓良率的設定方式: \",\n",
    "      \"\\n2. 測試項目：A-以defect顆粒大小為基準分類的548顆die有420顆正確\",\"; B-以defect顏色為基準分類的1044顆die有890顆正確\",\n",
    "      \"\\n3. 建立假設：假設以B方式的分類方式通常正確性優於A分類方式,則H0: B - A <= 0 / H1: B - A > 0\",\n",
    "      \"\\n4. 隨機分配方法: 使用分層隨機方式,先依月份分出當年度晶圓良率最低的月份再進行當月隨機取樣\",\n",
    "      \"\\n5. 實驗結果分析: \",\n",
    "      \"\\np value = \", statsmodels.stats.proportion.proportions_ztest([420, 548], [1044, 890], alternative='smaller')[1],\n",
    "      \"\\nZ = \", statsmodels.stats.proportion.proportions_ztest([420, 548], [1044, 890], alternative='smaller')[0]\n",
    "     )\n"
   ]
  },
  {
   "cell_type": "code",
   "execution_count": null,
   "metadata": {},
   "outputs": [],
   "source": []
  }
 ],
 "metadata": {
  "kernelspec": {
   "display_name": "Python 3",
   "language": "python",
   "name": "python3"
  },
  "language_info": {
   "codemirror_mode": {
    "name": "ipython",
    "version": 3
   },
   "file_extension": ".py",
   "mimetype": "text/x-python",
   "name": "python",
   "nbconvert_exporter": "python",
   "pygments_lexer": "ipython3",
   "version": "3.8.5"
  }
 },
 "nbformat": 4,
 "nbformat_minor": 4
}
