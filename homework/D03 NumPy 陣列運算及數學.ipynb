{
 "cells": [
  {
   "cell_type": "code",
   "execution_count": 1,
   "metadata": {},
   "outputs": [
    {
     "name": "stdout",
     "output_type": "stream",
     "text": [
      "60.0\n"
     ]
    }
   ],
   "source": [
    "import numpy as np\n",
    "V1 = 20000\n",
    "V2 = 20\n",
    "a = np.divide(V1 , V2)\n",
    "b = np.multiply(20, np.log10(a))\n",
    "print(b)"
   ]
  },
  {
   "cell_type": "code",
   "execution_count": 2,
   "metadata": {},
   "outputs": [
    {
     "name": "stdout",
     "output_type": "stream",
     "text": [
      "0.09999999999999999\n"
     ]
    }
   ],
   "source": [
    "import numpy as np\n",
    "a = 30\n",
    "b = 50\n",
    "V1 = 20\n",
    "a1 = np.divide(a, 20)\n",
    "b1 = np.divide(b, 20)\n",
    "Va = np.multiply(np.power(10, a1), V1)\n",
    "Vb = np.multiply(np.power(10, b1), V1)\n",
    "c = np.divide(Va, Vb)\n",
    "print(c)"
   ]
  },
  {
   "cell_type": "code",
   "execution_count": null,
   "metadata": {},
   "outputs": [],
   "source": []
  }
 ],
 "metadata": {
  "kernelspec": {
   "display_name": "Python 3",
   "language": "python",
   "name": "python3"
  },
  "language_info": {
   "codemirror_mode": {
    "name": "ipython",
    "version": 3
   },
   "file_extension": ".py",
   "mimetype": "text/x-python",
   "name": "python",
   "nbconvert_exporter": "python",
   "pygments_lexer": "ipython3",
   "version": "3.8.5"
  }
 },
 "nbformat": 4,
 "nbformat_minor": 4
}
